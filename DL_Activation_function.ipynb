{
 "cells": [
  {
   "cell_type": "markdown",
   "id": "583e761d",
   "metadata": {},
   "source": [
    "# Activation Functions"
   ]
  },
  {
   "cell_type": "markdown",
   "id": "2f134525",
   "metadata": {},
   "source": [
    "## Binary Step Function"
   ]
  },
  {
   "cell_type": "code",
   "execution_count": 1,
   "id": "fcbc9618",
   "metadata": {},
   "outputs": [],
   "source": [
    "def bina(x):\n",
    "    if x<0:\n",
    "        return 0\n",
    "    else: return 1"
   ]
  },
  {
   "cell_type": "code",
   "execution_count": 2,
   "id": "0431ccbf",
   "metadata": {},
   "outputs": [
    {
     "data": {
      "text/plain": [
       "1"
      ]
     },
     "execution_count": 2,
     "metadata": {},
     "output_type": "execute_result"
    }
   ],
   "source": [
    "bina(12)"
   ]
  },
  {
   "cell_type": "code",
   "execution_count": 3,
   "id": "fce820f5",
   "metadata": {},
   "outputs": [
    {
     "data": {
      "text/plain": [
       "0"
      ]
     },
     "execution_count": 3,
     "metadata": {},
     "output_type": "execute_result"
    }
   ],
   "source": [
    "bina(-456789765)"
   ]
  },
  {
   "cell_type": "code",
   "execution_count": 4,
   "id": "db4c7bef",
   "metadata": {},
   "outputs": [
    {
     "data": {
      "text/plain": [
       "1"
      ]
     },
     "execution_count": 4,
     "metadata": {},
     "output_type": "execute_result"
    }
   ],
   "source": [
    "bina(0)"
   ]
  },
  {
   "cell_type": "markdown",
   "id": "cd4f3de9",
   "metadata": {},
   "source": [
    "## Linear Function"
   ]
  },
  {
   "cell_type": "code",
   "execution_count": 5,
   "id": "e1e9265e",
   "metadata": {},
   "outputs": [],
   "source": [
    "def lin(x):\n",
    "    return 17*x"
   ]
  },
  {
   "cell_type": "code",
   "execution_count": 6,
   "id": "f3058239",
   "metadata": {},
   "outputs": [
    {
     "data": {
      "text/plain": [
       "85"
      ]
     },
     "execution_count": 6,
     "metadata": {},
     "output_type": "execute_result"
    }
   ],
   "source": [
    "lin(5)"
   ]
  },
  {
   "cell_type": "code",
   "execution_count": 7,
   "id": "e991343f",
   "metadata": {},
   "outputs": [
    {
     "data": {
      "text/plain": [
       "-11900"
      ]
     },
     "execution_count": 7,
     "metadata": {},
     "output_type": "execute_result"
    }
   ],
   "source": [
    "lin(-700)"
   ]
  },
  {
   "cell_type": "markdown",
   "id": "664a78a7",
   "metadata": {},
   "source": [
    "## Sigmoid Function"
   ]
  },
  {
   "cell_type": "code",
   "execution_count": 8,
   "id": "153a043d",
   "metadata": {},
   "outputs": [],
   "source": [
    "import numpy as np\n",
    "def sigma(x):\n",
    "    z=(1/(1+np.exp(-x)))\n",
    "    return z"
   ]
  },
  {
   "cell_type": "code",
   "execution_count": 9,
   "id": "cdef0cc0",
   "metadata": {},
   "outputs": [
    {
     "data": {
      "text/plain": [
       "0.9999546021312976"
      ]
     },
     "execution_count": 9,
     "metadata": {},
     "output_type": "execute_result"
    }
   ],
   "source": [
    "sigma(10)"
   ]
  },
  {
   "cell_type": "code",
   "execution_count": 10,
   "id": "915434f8",
   "metadata": {},
   "outputs": [
    {
     "data": {
      "text/plain": [
       "3.7200759760208356e-44"
      ]
     },
     "execution_count": 10,
     "metadata": {},
     "output_type": "execute_result"
    }
   ],
   "source": [
    "sigma(-100)"
   ]
  },
  {
   "cell_type": "markdown",
   "id": "842510c4",
   "metadata": {},
   "source": [
    "## Tanh"
   ]
  },
  {
   "cell_type": "code",
   "execution_count": 11,
   "id": "921fdb3b",
   "metadata": {},
   "outputs": [],
   "source": [
    "def tan(x):\n",
    "    z=(2/(1+np.exp(-2*x)))-1\n",
    "    return z"
   ]
  },
  {
   "cell_type": "code",
   "execution_count": 16,
   "id": "3cea7722",
   "metadata": {},
   "outputs": [
    {
     "data": {
      "text/plain": [
       "0.9640275800758169"
      ]
     },
     "execution_count": 16,
     "metadata": {},
     "output_type": "execute_result"
    }
   ],
   "source": [
    "tan(2)"
   ]
  },
  {
   "cell_type": "code",
   "execution_count": 14,
   "id": "23471287",
   "metadata": {},
   "outputs": [
    {
     "data": {
      "text/plain": [
       "-0.9999092042625951"
      ]
     },
     "execution_count": 14,
     "metadata": {},
     "output_type": "execute_result"
    }
   ],
   "source": [
    "tan(-5)"
   ]
  },
  {
   "cell_type": "markdown",
   "id": "0343e8dd",
   "metadata": {},
   "source": [
    "## ReLU"
   ]
  },
  {
   "cell_type": "code",
   "execution_count": 17,
   "id": "05855433",
   "metadata": {},
   "outputs": [],
   "source": [
    "def relu(x):\n",
    "    if x<0:\n",
    "        return 0\n",
    "    else:\n",
    "        return x"
   ]
  },
  {
   "cell_type": "code",
   "execution_count": 18,
   "id": "ecb14163",
   "metadata": {},
   "outputs": [
    {
     "data": {
      "text/plain": [
       "9"
      ]
     },
     "execution_count": 18,
     "metadata": {},
     "output_type": "execute_result"
    }
   ],
   "source": [
    "relu(9)"
   ]
  },
  {
   "cell_type": "code",
   "execution_count": 19,
   "id": "9c6a8c05",
   "metadata": {},
   "outputs": [
    {
     "data": {
      "text/plain": [
       "0"
      ]
     },
     "execution_count": 19,
     "metadata": {},
     "output_type": "execute_result"
    }
   ],
   "source": [
    "relu(-10)"
   ]
  },
  {
   "cell_type": "markdown",
   "id": "a11c6742",
   "metadata": {},
   "source": [
    "## Leaky ReLU"
   ]
  },
  {
   "cell_type": "code",
   "execution_count": 20,
   "id": "7dccf153",
   "metadata": {},
   "outputs": [],
   "source": [
    "def leak(x):\n",
    "    if x<0:\n",
    "        return 0.01*x\n",
    "    else:\n",
    "        return x"
   ]
  },
  {
   "cell_type": "code",
   "execution_count": 21,
   "id": "5c4c77d2",
   "metadata": {},
   "outputs": [
    {
     "data": {
      "text/plain": [
       "6"
      ]
     },
     "execution_count": 21,
     "metadata": {},
     "output_type": "execute_result"
    }
   ],
   "source": [
    "leak(6)"
   ]
  },
  {
   "cell_type": "code",
   "execution_count": 22,
   "id": "7eace996",
   "metadata": {},
   "outputs": [
    {
     "data": {
      "text/plain": [
       "-0.5"
      ]
     },
     "execution_count": 22,
     "metadata": {},
     "output_type": "execute_result"
    }
   ],
   "source": [
    "leak(-50)"
   ]
  },
  {
   "cell_type": "markdown",
   "id": "79bf7f35",
   "metadata": {},
   "source": [
    "## ELU"
   ]
  },
  {
   "cell_type": "code",
   "execution_count": 23,
   "id": "97de9dd4",
   "metadata": {},
   "outputs": [],
   "source": [
    "def elu(x,a):\n",
    "    if x<0:\n",
    "        return a*(np.exp(x)-1)\n",
    "    else:\n",
    "        return x"
   ]
  },
  {
   "cell_type": "code",
   "execution_count": 24,
   "id": "99db09f3",
   "metadata": {},
   "outputs": [
    {
     "data": {
      "text/plain": [
       "7"
      ]
     },
     "execution_count": 24,
     "metadata": {},
     "output_type": "execute_result"
    }
   ],
   "source": [
    "elu(7,0.1)"
   ]
  },
  {
   "cell_type": "code",
   "execution_count": 25,
   "id": "91f1d1a5",
   "metadata": {},
   "outputs": [
    {
     "data": {
      "text/plain": [
       "-0.2"
      ]
     },
     "execution_count": 25,
     "metadata": {},
     "output_type": "execute_result"
    }
   ],
   "source": [
    "elu(-59,0.2)"
   ]
  },
  {
   "cell_type": "markdown",
   "id": "730a0387",
   "metadata": {},
   "source": [
    "## Swish"
   ]
  },
  {
   "cell_type": "code",
   "execution_count": 26,
   "id": "09837f57",
   "metadata": {},
   "outputs": [],
   "source": [
    "def swish(x):\n",
    "    return x/(1-np.exp(-x))"
   ]
  },
  {
   "cell_type": "code",
   "execution_count": 27,
   "id": "a82ff919",
   "metadata": {},
   "outputs": [
    {
     "data": {
      "text/plain": [
       "20.00000004122307"
      ]
     },
     "execution_count": 27,
     "metadata": {},
     "output_type": "execute_result"
    }
   ],
   "source": [
    "swish(20)"
   ]
  },
  {
   "cell_type": "code",
   "execution_count": 28,
   "id": "af6a2aa2",
   "metadata": {},
   "outputs": [
    {
     "data": {
      "text/plain": [
       "6.840787597156489e-20"
      ]
     },
     "execution_count": 28,
     "metadata": {},
     "output_type": "execute_result"
    }
   ],
   "source": [
    "swish(-48)"
   ]
  },
  {
   "cell_type": "markdown",
   "id": "4a732b81",
   "metadata": {},
   "source": [
    "## SoftMax"
   ]
  },
  {
   "cell_type": "code",
   "execution_count": 31,
   "id": "9a885f6b",
   "metadata": {},
   "outputs": [],
   "source": [
    "def sm(x):\n",
    "    z=np.exp(x)\n",
    "    z=z/z.sum()\n",
    "    return z"
   ]
  },
  {
   "cell_type": "code",
   "execution_count": 32,
   "id": "260c93d1",
   "metadata": {},
   "outputs": [
    {
     "data": {
      "text/plain": [
       "array([0.25647022, 0.02841771, 0.02105236, 0.06324478, 0.63081494])"
      ]
     },
     "execution_count": 32,
     "metadata": {},
     "output_type": "execute_result"
    }
   ],
   "source": [
    "sm([2.9,0.7,0.4,1.5,3.8])"
   ]
  },
  {
   "cell_type": "code",
   "execution_count": 34,
   "id": "a1629df0",
   "metadata": {},
   "outputs": [
    {
     "data": {
      "text/plain": [
       "array([0.65900114, 0.24243297, 0.09856589])"
      ]
     },
     "execution_count": 34,
     "metadata": {},
     "output_type": "execute_result"
    }
   ],
   "source": [
    "sm([2.0,1.0,0.1])"
   ]
  },
  {
   "cell_type": "code",
   "execution_count": null,
   "id": "689bd542",
   "metadata": {},
   "outputs": [],
   "source": []
  }
 ],
 "metadata": {
  "kernelspec": {
   "display_name": "Python 3 (ipykernel)",
   "language": "python",
   "name": "python3"
  },
  "language_info": {
   "codemirror_mode": {
    "name": "ipython",
    "version": 3
   },
   "file_extension": ".py",
   "mimetype": "text/x-python",
   "name": "python",
   "nbconvert_exporter": "python",
   "pygments_lexer": "ipython3",
   "version": "3.10.9"
  }
 },
 "nbformat": 4,
 "nbformat_minor": 5
}
